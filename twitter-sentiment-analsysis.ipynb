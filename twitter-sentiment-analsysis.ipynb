{
 "cells": [
  {
   "cell_type": "code",
   "execution_count": 1,
   "id": "5b660574",
   "metadata": {
    "_cell_guid": "b1076dfc-b9ad-4769-8c92-a6c4dae69d19",
    "_uuid": "8f2839f25d086af736a60e9eeb907d3b93b6e0e5",
    "execution": {
     "iopub.execute_input": "2024-02-19T21:14:51.370443Z",
     "iopub.status.busy": "2024-02-19T21:14:51.369828Z",
     "iopub.status.idle": "2024-02-19T21:14:52.284723Z",
     "shell.execute_reply": "2024-02-19T21:14:52.283723Z"
    },
    "papermill": {
     "duration": 0.938797,
     "end_time": "2024-02-19T21:14:52.288258",
     "exception": false,
     "start_time": "2024-02-19T21:14:51.349461",
     "status": "completed"
    },
    "tags": []
   },
   "outputs": [
    {
     "name": "stdout",
     "output_type": "stream",
     "text": [
      "/kaggle/input/tweet-sentiment-extraction/sample_submission.csv\n",
      "/kaggle/input/tweet-sentiment-extraction/train.csv\n",
      "/kaggle/input/tweet-sentiment-extraction/test.csv\n",
      "/kaggle/input/tse-spacy-model/models2/model_neg/tokenizer\n",
      "/kaggle/input/tse-spacy-model/models2/model_neg/meta.json\n",
      "/kaggle/input/tse-spacy-model/models2/model_neg/vocab/vectors\n",
      "/kaggle/input/tse-spacy-model/models2/model_neg/vocab/key2row\n",
      "/kaggle/input/tse-spacy-model/models2/model_neg/vocab/lexemes.bin\n",
      "/kaggle/input/tse-spacy-model/models2/model_neg/vocab/strings.json\n",
      "/kaggle/input/tse-spacy-model/models2/model_neg/ner/model\n",
      "/kaggle/input/tse-spacy-model/models2/model_neg/ner/moves\n",
      "/kaggle/input/tse-spacy-model/models2/model_neg/ner/cfg\n",
      "/kaggle/input/tse-spacy-model/models/model_neg/tokenizer\n",
      "/kaggle/input/tse-spacy-model/models/model_neg/meta.json\n",
      "/kaggle/input/tse-spacy-model/models/model_neg/vocab/vectors\n",
      "/kaggle/input/tse-spacy-model/models/model_neg/vocab/key2row\n",
      "/kaggle/input/tse-spacy-model/models/model_neg/vocab/lexemes.bin\n",
      "/kaggle/input/tse-spacy-model/models/model_neg/vocab/strings.json\n",
      "/kaggle/input/tse-spacy-model/models/model_neg/ner/model\n",
      "/kaggle/input/tse-spacy-model/models/model_neg/ner/moves\n",
      "/kaggle/input/tse-spacy-model/models/model_neg/ner/cfg\n",
      "/kaggle/input/tse-spacy-model/models/model_pos/tokenizer\n",
      "/kaggle/input/tse-spacy-model/models/model_pos/meta.json\n",
      "/kaggle/input/tse-spacy-model/models/model_pos/vocab/vectors\n",
      "/kaggle/input/tse-spacy-model/models/model_pos/vocab/key2row\n",
      "/kaggle/input/tse-spacy-model/models/model_pos/vocab/lexemes.bin\n",
      "/kaggle/input/tse-spacy-model/models/model_pos/vocab/strings.json\n",
      "/kaggle/input/tse-spacy-model/models/model_pos/ner/model\n",
      "/kaggle/input/tse-spacy-model/models/model_pos/ner/moves\n",
      "/kaggle/input/tse-spacy-model/models/model_pos/ner/cfg\n",
      "/kaggle/input/tse-spacy-model/models/model_neu/tokenizer\n",
      "/kaggle/input/tse-spacy-model/models/model_neu/meta.json\n",
      "/kaggle/input/tse-spacy-model/models/model_neu/vocab/vectors\n",
      "/kaggle/input/tse-spacy-model/models/model_neu/vocab/key2row\n",
      "/kaggle/input/tse-spacy-model/models/model_neu/vocab/lexemes.bin\n",
      "/kaggle/input/tse-spacy-model/models/model_neu/vocab/strings.json\n",
      "/kaggle/input/tse-spacy-model/models/model_neu/ner/model\n",
      "/kaggle/input/tse-spacy-model/models/model_neu/ner/moves\n",
      "/kaggle/input/tse-spacy-model/models/model_neu/ner/cfg\n"
     ]
    }
   ],
   "source": [
    "# This Python 3 environment comes with many helpful analytics libraries installed\n",
    "# It is defined by the kaggle/python Docker image: https://github.com/kaggle/docker-python\n",
    "# For example, here's several helpful packages to load\n",
    "\n",
    "import numpy as np # linear algebra\n",
    "import pandas as pd # data processing, CSV file I/O (e.g. pd.read_csv)\n",
    "\n",
    "# Input data files are available in the read-only \"../input/\" directory\n",
    "# For example, running this (by clicking run or pressing Shift+Enter) will list all files under the input directory\n",
    "\n",
    "import os\n",
    "for dirname, _, filenames in os.walk('/kaggle/input'):\n",
    "    for filename in filenames:\n",
    "        print(os.path.join(dirname, filename))\n",
    "\n",
    "# You can write up to 20GB to the current directory (/kaggle/working/) that gets preserved as output when you create a version using \"Save & Run All\" \n",
    "# You can also write temporary files to /kaggle/temp/, but they won't be saved outside of the current session"
   ]
  },
  {
   "cell_type": "code",
   "execution_count": null,
   "id": "2dac818c",
   "metadata": {
    "papermill": {
     "duration": 0.01627,
     "end_time": "2024-02-19T21:14:52.321546",
     "exception": false,
     "start_time": "2024-02-19T21:14:52.305276",
     "status": "completed"
    },
    "tags": []
   },
   "outputs": [],
   "source": []
  },
  {
   "cell_type": "markdown",
   "id": "adbcb17e",
   "metadata": {
    "papermill": {
     "duration": 0.016418,
     "end_time": "2024-02-19T21:14:52.354673",
     "exception": false,
     "start_time": "2024-02-19T21:14:52.338255",
     "status": "completed"
    },
    "tags": []
   },
   "source": [
    "**Import and Install Dependencies**"
   ]
  },
  {
   "cell_type": "code",
   "execution_count": 2,
   "id": "a2143152",
   "metadata": {
    "execution": {
     "iopub.execute_input": "2024-02-19T21:14:52.391524Z",
     "iopub.status.busy": "2024-02-19T21:14:52.390998Z",
     "iopub.status.idle": "2024-02-19T21:14:56.316170Z",
     "shell.execute_reply": "2024-02-19T21:14:56.315037Z"
    },
    "papermill": {
     "duration": 3.946861,
     "end_time": "2024-02-19T21:14:56.319505",
     "exception": false,
     "start_time": "2024-02-19T21:14:52.372644",
     "status": "completed"
    },
    "tags": []
   },
   "outputs": [],
   "source": [
    "import re\n",
    "import string\n",
    "import numpy as np\n",
    "import random\n",
    "import pandas as pd\n",
    "import matplotlib.pyplot as plt\n",
    "import seaborn as sns\n",
    "%matplotlib inline\n",
    "from plotly import graph_objs as go\n",
    "import plotly.express as px\n",
    "import plotly.express as px\n",
    "import plotly.figure_factory as ff\n",
    "\n",
    "from PIL import Image\n",
    "\n",
    "import nltk\n",
    "from nltk.corpus import stopwords\n",
    "\n",
    "from tqdm import tqdm\n",
    "import os\n",
    "import nltk\n",
    "import random\n",
    "import warnings\n",
    "warnings.filterwarnings(\"ignore\")"
   ]
  },
  {
   "cell_type": "code",
   "execution_count": 3,
   "id": "54f0424d",
   "metadata": {
    "execution": {
     "iopub.execute_input": "2024-02-19T21:14:56.355140Z",
     "iopub.status.busy": "2024-02-19T21:14:56.354501Z",
     "iopub.status.idle": "2024-02-19T21:14:56.526547Z",
     "shell.execute_reply": "2024-02-19T21:14:56.525598Z"
    },
    "papermill": {
     "duration": 0.192927,
     "end_time": "2024-02-19T21:14:56.529215",
     "exception": false,
     "start_time": "2024-02-19T21:14:56.336288",
     "status": "completed"
    },
    "tags": []
   },
   "outputs": [],
   "source": [
    "train = pd.read_csv('/kaggle/input/tweet-sentiment-extraction/train.csv')\n",
    "test = pd.read_csv('/kaggle/input/tweet-sentiment-extraction/test.csv')\n",
    "ss = pd.read_csv('/kaggle/input/tweet-sentiment-extraction/sample_submission.csv')"
   ]
  },
  {
   "cell_type": "code",
   "execution_count": 4,
   "id": "653da766",
   "metadata": {
    "execution": {
     "iopub.execute_input": "2024-02-19T21:14:56.568057Z",
     "iopub.status.busy": "2024-02-19T21:14:56.567316Z",
     "iopub.status.idle": "2024-02-19T21:14:56.583733Z",
     "shell.execute_reply": "2024-02-19T21:14:56.582940Z"
    },
    "papermill": {
     "duration": 0.03706,
     "end_time": "2024-02-19T21:14:56.585855",
     "exception": false,
     "start_time": "2024-02-19T21:14:56.548795",
     "status": "completed"
    },
    "tags": []
   },
   "outputs": [
    {
     "data": {
      "text/html": [
       "<div>\n",
       "<style scoped>\n",
       "    .dataframe tbody tr th:only-of-type {\n",
       "        vertical-align: middle;\n",
       "    }\n",
       "\n",
       "    .dataframe tbody tr th {\n",
       "        vertical-align: top;\n",
       "    }\n",
       "\n",
       "    .dataframe thead th {\n",
       "        text-align: right;\n",
       "    }\n",
       "</style>\n",
       "<table border=\"1\" class=\"dataframe\">\n",
       "  <thead>\n",
       "    <tr style=\"text-align: right;\">\n",
       "      <th></th>\n",
       "      <th>textID</th>\n",
       "      <th>text</th>\n",
       "      <th>selected_text</th>\n",
       "      <th>sentiment</th>\n",
       "    </tr>\n",
       "  </thead>\n",
       "  <tbody>\n",
       "    <tr>\n",
       "      <th>0</th>\n",
       "      <td>cb774db0d1</td>\n",
       "      <td>I`d have responded, if I were going</td>\n",
       "      <td>I`d have responded, if I were going</td>\n",
       "      <td>neutral</td>\n",
       "    </tr>\n",
       "    <tr>\n",
       "      <th>1</th>\n",
       "      <td>549e992a42</td>\n",
       "      <td>Sooo SAD I will miss you here in San Diego!!!</td>\n",
       "      <td>Sooo SAD</td>\n",
       "      <td>negative</td>\n",
       "    </tr>\n",
       "    <tr>\n",
       "      <th>2</th>\n",
       "      <td>088c60f138</td>\n",
       "      <td>my boss is bullying me...</td>\n",
       "      <td>bullying me</td>\n",
       "      <td>negative</td>\n",
       "    </tr>\n",
       "    <tr>\n",
       "      <th>3</th>\n",
       "      <td>9642c003ef</td>\n",
       "      <td>what interview! leave me alone</td>\n",
       "      <td>leave me alone</td>\n",
       "      <td>negative</td>\n",
       "    </tr>\n",
       "    <tr>\n",
       "      <th>4</th>\n",
       "      <td>358bd9e861</td>\n",
       "      <td>Sons of ****, why couldn`t they put them on t...</td>\n",
       "      <td>Sons of ****,</td>\n",
       "      <td>negative</td>\n",
       "    </tr>\n",
       "  </tbody>\n",
       "</table>\n",
       "</div>"
      ],
      "text/plain": [
       "       textID                                               text  \\\n",
       "0  cb774db0d1                I`d have responded, if I were going   \n",
       "1  549e992a42      Sooo SAD I will miss you here in San Diego!!!   \n",
       "2  088c60f138                          my boss is bullying me...   \n",
       "3  9642c003ef                     what interview! leave me alone   \n",
       "4  358bd9e861   Sons of ****, why couldn`t they put them on t...   \n",
       "\n",
       "                         selected_text sentiment  \n",
       "0  I`d have responded, if I were going   neutral  \n",
       "1                             Sooo SAD  negative  \n",
       "2                          bullying me  negative  \n",
       "3                       leave me alone  negative  \n",
       "4                        Sons of ****,  negative  "
      ]
     },
     "execution_count": 4,
     "metadata": {},
     "output_type": "execute_result"
    }
   ],
   "source": [
    "train.head()"
   ]
  },
  {
   "cell_type": "code",
   "execution_count": 5,
   "id": "bec8e786",
   "metadata": {
    "execution": {
     "iopub.execute_input": "2024-02-19T21:14:56.622014Z",
     "iopub.status.busy": "2024-02-19T21:14:56.621308Z",
     "iopub.status.idle": "2024-02-19T21:14:56.659021Z",
     "shell.execute_reply": "2024-02-19T21:14:56.657307Z"
    },
    "papermill": {
     "duration": 0.058482,
     "end_time": "2024-02-19T21:14:56.661416",
     "exception": false,
     "start_time": "2024-02-19T21:14:56.602934",
     "status": "completed"
    },
    "tags": []
   },
   "outputs": [
    {
     "name": "stdout",
     "output_type": "stream",
     "text": [
      "<class 'pandas.core.frame.DataFrame'>\n",
      "RangeIndex: 27481 entries, 0 to 27480\n",
      "Data columns (total 4 columns):\n",
      " #   Column         Non-Null Count  Dtype \n",
      "---  ------         --------------  ----- \n",
      " 0   textID         27481 non-null  object\n",
      " 1   text           27480 non-null  object\n",
      " 2   selected_text  27480 non-null  object\n",
      " 3   sentiment      27481 non-null  object\n",
      "dtypes: object(4)\n",
      "memory usage: 858.9+ KB\n"
     ]
    }
   ],
   "source": [
    "train.info()"
   ]
  },
  {
   "cell_type": "code",
   "execution_count": 6,
   "id": "cf060aca",
   "metadata": {
    "execution": {
     "iopub.execute_input": "2024-02-19T21:14:56.697548Z",
     "iopub.status.busy": "2024-02-19T21:14:56.697147Z",
     "iopub.status.idle": "2024-02-19T21:14:56.721149Z",
     "shell.execute_reply": "2024-02-19T21:14:56.720119Z"
    },
    "papermill": {
     "duration": 0.045008,
     "end_time": "2024-02-19T21:14:56.723672",
     "exception": false,
     "start_time": "2024-02-19T21:14:56.678664",
     "status": "completed"
    },
    "tags": []
   },
   "outputs": [],
   "source": [
    "#since we have only one value which is null we can remove it\n",
    "train.dropna(inplace= True)"
   ]
  },
  {
   "cell_type": "code",
   "execution_count": 7,
   "id": "303f5a5d",
   "metadata": {
    "execution": {
     "iopub.execute_input": "2024-02-19T21:14:56.760169Z",
     "iopub.status.busy": "2024-02-19T21:14:56.759503Z",
     "iopub.status.idle": "2024-02-19T21:14:56.770927Z",
     "shell.execute_reply": "2024-02-19T21:14:56.769471Z"
    },
    "papermill": {
     "duration": 0.032926,
     "end_time": "2024-02-19T21:14:56.773844",
     "exception": false,
     "start_time": "2024-02-19T21:14:56.740918",
     "status": "completed"
    },
    "tags": []
   },
   "outputs": [
    {
     "name": "stdout",
     "output_type": "stream",
     "text": [
      "<class 'pandas.core.frame.DataFrame'>\n",
      "RangeIndex: 3534 entries, 0 to 3533\n",
      "Data columns (total 3 columns):\n",
      " #   Column     Non-Null Count  Dtype \n",
      "---  ------     --------------  ----- \n",
      " 0   textID     3534 non-null   object\n",
      " 1   text       3534 non-null   object\n",
      " 2   sentiment  3534 non-null   object\n",
      "dtypes: object(3)\n",
      "memory usage: 83.0+ KB\n"
     ]
    }
   ],
   "source": [
    "test.info()\n",
    "# there is no null values in test df"
   ]
  },
  {
   "cell_type": "code",
   "execution_count": 8,
   "id": "75222207",
   "metadata": {
    "execution": {
     "iopub.execute_input": "2024-02-19T21:14:56.811097Z",
     "iopub.status.busy": "2024-02-19T21:14:56.810440Z",
     "iopub.status.idle": "2024-02-19T21:14:56.834459Z",
     "shell.execute_reply": "2024-02-19T21:14:56.833159Z"
    },
    "papermill": {
     "duration": 0.045733,
     "end_time": "2024-02-19T21:14:56.837057",
     "exception": false,
     "start_time": "2024-02-19T21:14:56.791324",
     "status": "completed"
    },
    "tags": []
   },
   "outputs": [
    {
     "data": {
      "text/html": [
       "<div>\n",
       "<style scoped>\n",
       "    .dataframe tbody tr th:only-of-type {\n",
       "        vertical-align: middle;\n",
       "    }\n",
       "\n",
       "    .dataframe tbody tr th {\n",
       "        vertical-align: top;\n",
       "    }\n",
       "\n",
       "    .dataframe thead th {\n",
       "        text-align: right;\n",
       "    }\n",
       "</style>\n",
       "<table border=\"1\" class=\"dataframe\">\n",
       "  <thead>\n",
       "    <tr style=\"text-align: right;\">\n",
       "      <th></th>\n",
       "      <th>textID</th>\n",
       "      <th>text</th>\n",
       "      <th>selected_text</th>\n",
       "    </tr>\n",
       "    <tr>\n",
       "      <th>sentiment</th>\n",
       "      <th></th>\n",
       "      <th></th>\n",
       "      <th></th>\n",
       "    </tr>\n",
       "  </thead>\n",
       "  <tbody>\n",
       "    <tr>\n",
       "      <th>negative</th>\n",
       "      <td>7781</td>\n",
       "      <td>7781</td>\n",
       "      <td>7781</td>\n",
       "    </tr>\n",
       "    <tr>\n",
       "      <th>neutral</th>\n",
       "      <td>11117</td>\n",
       "      <td>11117</td>\n",
       "      <td>11117</td>\n",
       "    </tr>\n",
       "    <tr>\n",
       "      <th>positive</th>\n",
       "      <td>8582</td>\n",
       "      <td>8582</td>\n",
       "      <td>8582</td>\n",
       "    </tr>\n",
       "  </tbody>\n",
       "</table>\n",
       "</div>"
      ],
      "text/plain": [
       "           textID   text  selected_text\n",
       "sentiment                              \n",
       "negative     7781   7781           7781\n",
       "neutral     11117  11117          11117\n",
       "positive     8582   8582           8582"
      ]
     },
     "execution_count": 8,
     "metadata": {},
     "output_type": "execute_result"
    }
   ],
   "source": [
    "train.groupby('sentiment').count()"
   ]
  },
  {
   "cell_type": "code",
   "execution_count": 9,
   "id": "9b131661",
   "metadata": {
    "execution": {
     "iopub.execute_input": "2024-02-19T21:14:56.874623Z",
     "iopub.status.busy": "2024-02-19T21:14:56.874149Z",
     "iopub.status.idle": "2024-02-19T21:14:57.153880Z",
     "shell.execute_reply": "2024-02-19T21:14:57.152762Z"
    },
    "papermill": {
     "duration": 0.301422,
     "end_time": "2024-02-19T21:14:57.156249",
     "exception": false,
     "start_time": "2024-02-19T21:14:56.854827",
     "status": "completed"
    },
    "tags": []
   },
   "outputs": [
    {
     "data": {
      "text/plain": [
       "<Axes: xlabel='sentiment', ylabel='Count'>"
      ]
     },
     "execution_count": 9,
     "metadata": {},
     "output_type": "execute_result"
    },
    {
     "data": {
      "image/png": "[encoded data removed]",
      "text/plain": [
       "<Figure size 600x600 with 1 Axes>"
      ]
     },
     "metadata": {},
     "output_type": "display_data"
    }
   ],
   "source": [
    "plt.figure(figsize=(6,6))\n",
    "sns.histplot(data=train,x='sentiment')"
   ]
  },
  {
   "cell_type": "code",
   "execution_count": 10,
   "id": "c7d810fa",
   "metadata": {
    "execution": {
     "iopub.execute_input": "2024-02-19T21:14:57.194250Z",
     "iopub.status.busy": "2024-02-19T21:14:57.193568Z",
     "iopub.status.idle": "2024-02-19T21:14:57.215631Z",
     "shell.execute_reply": "2024-02-19T21:14:57.214466Z"
    },
    "papermill": {
     "duration": 0.044124,
     "end_time": "2024-02-19T21:14:57.218272",
     "exception": false,
     "start_time": "2024-02-19T21:14:57.174148",
     "status": "completed"
    },
    "tags": []
   },
   "outputs": [],
   "source": [
    "temp = train.groupby('sentiment').count()['text'].reset_index().sort_values(by= 'text',ascending= False)"
   ]
  },
  {
   "cell_type": "code",
   "execution_count": 11,
   "id": "71597501",
   "metadata": {
    "execution": {
     "iopub.execute_input": "2024-02-19T21:14:57.257061Z",
     "iopub.status.busy": "2024-02-19T21:14:57.256633Z",
     "iopub.status.idle": "2024-02-19T21:14:57.266999Z",
     "shell.execute_reply": "2024-02-19T21:14:57.265846Z"
    },
    "papermill": {
     "duration": 0.03231,
     "end_time": "2024-02-19T21:14:57.269247",
     "exception": false,
     "start_time": "2024-02-19T21:14:57.236937",
     "status": "completed"
    },
    "tags": []
   },
   "outputs": [
    {
     "data": {
      "text/html": [
       "<div>\n",
       "<style scoped>\n",
       "    .dataframe tbody tr th:only-of-type {\n",
       "        vertical-align: middle;\n",
       "    }\n",
       "\n",
       "    .dataframe tbody tr th {\n",
       "        vertical-align: top;\n",
       "    }\n",
       "\n",
       "    .dataframe thead th {\n",
       "        text-align: right;\n",
       "    }\n",
       "</style>\n",
       "<table border=\"1\" class=\"dataframe\">\n",
       "  <thead>\n",
       "    <tr style=\"text-align: right;\">\n",
       "      <th></th>\n",
       "      <th>sentiment</th>\n",
       "      <th>text</th>\n",
       "    </tr>\n",
       "  </thead>\n",
       "  <tbody>\n",
       "    <tr>\n",
       "      <th>1</th>\n",
       "      <td>neutral</td>\n",
       "      <td>11117</td>\n",
       "    </tr>\n",
       "    <tr>\n",
       "      <th>2</th>\n",
       "      <td>positive</td>\n",
       "      <td>8582</td>\n",
       "    </tr>\n",
       "    <tr>\n",
       "      <th>0</th>\n",
       "      <td>negative</td>\n",
       "      <td>7781</td>\n",
       "    </tr>\n",
       "  </tbody>\n",
       "</table>\n",
       "</div>"
      ],
      "text/plain": [
       "  sentiment   text\n",
       "1   neutral  11117\n",
       "2  positive   8582\n",
       "0  negative   7781"
      ]
     },
     "execution_count": 11,
     "metadata": {},
     "output_type": "execute_result"
    }
   ],
   "source": [
    "temp"
   ]
  },
  {
   "cell_type": "markdown",
   "id": "898944cb",
   "metadata": {
    "papermill": {
     "duration": 0.017866,
     "end_time": "2024-02-19T21:14:57.305270",
     "exception": false,
     "start_time": "2024-02-19T21:14:57.287404",
     "status": "completed"
    },
    "tags": []
   },
   "source": [
    "**Generating Meta Features**"
   ]
  },
  {
   "cell_type": "code",
   "execution_count": 12,
   "id": "2803eecb",
   "metadata": {
    "execution": {
     "iopub.execute_input": "2024-02-19T21:14:57.343277Z",
     "iopub.status.busy": "2024-02-19T21:14:57.342858Z",
     "iopub.status.idle": "2024-02-19T21:14:57.348994Z",
     "shell.execute_reply": "2024-02-19T21:14:57.347991Z"
    },
    "papermill": {
     "duration": 0.027699,
     "end_time": "2024-02-19T21:14:57.351098",
     "exception": false,
     "start_time": "2024-02-19T21:14:57.323399",
     "status": "completed"
    },
    "tags": []
   },
   "outputs": [],
   "source": [
    "def jaccard(str1, str2):\n",
    "    a = set(str1.lower().split())\n",
    "    b = set(str2.lower().split())\n",
    "    c = a.intersection(b)\n",
    "    return float(len(c))/(len(a)+len(b)-len(c))"
   ]
  },
  {
   "cell_type": "code",
   "execution_count": 13,
   "id": "203906ec",
   "metadata": {
    "execution": {
     "iopub.execute_input": "2024-02-19T21:14:57.388951Z",
     "iopub.status.busy": "2024-02-19T21:14:57.388541Z",
     "iopub.status.idle": "2024-02-19T21:14:59.931145Z",
     "shell.execute_reply": "2024-02-19T21:14:59.929806Z"
    },
    "papermill": {
     "duration": 2.564875,
     "end_time": "2024-02-19T21:14:59.934098",
     "exception": false,
     "start_time": "2024-02-19T21:14:57.369223",
     "status": "completed"
    },
    "tags": []
   },
   "outputs": [],
   "source": [
    "results_jaccard=[]\n",
    "for ind,row in train.iterrows():\n",
    "    sentence1= row.text\n",
    "    sentence2= row.selected_text\n",
    "    \n",
    "    jaccard_score = jaccard(sentence1,sentence2)\n",
    "    results_jaccard.append([sentence1,sentence2,jaccard_score])"
   ]
  },
  {
   "cell_type": "code",
   "execution_count": 14,
   "id": "8c6d2bfe",
   "metadata": {
    "execution": {
     "iopub.execute_input": "2024-02-19T21:14:59.972329Z",
     "iopub.status.busy": "2024-02-19T21:14:59.971783Z",
     "iopub.status.idle": "2024-02-19T21:15:00.134651Z",
     "shell.execute_reply": "2024-02-19T21:15:00.133798Z"
    },
    "papermill": {
     "duration": 0.184776,
     "end_time": "2024-02-19T21:15:00.137138",
     "exception": false,
     "start_time": "2024-02-19T21:14:59.952362",
     "status": "completed"
    },
    "tags": []
   },
   "outputs": [],
   "source": [
    "jaccard = pd.DataFrame(results_jaccard,columns = [\"text\", \"selected_text\", \"jaccard_score\"])\n",
    "train = train.merge(jaccard, how='outer')   "
   ]
  },
  {
   "cell_type": "code",
   "execution_count": 15,
   "id": "9c35b037",
   "metadata": {
    "execution": {
     "iopub.execute_input": "2024-02-19T21:15:00.175397Z",
     "iopub.status.busy": "2024-02-19T21:15:00.174973Z",
     "iopub.status.idle": "2024-02-19T21:15:00.188784Z",
     "shell.execute_reply": "2024-02-19T21:15:00.187622Z"
    },
    "papermill": {
     "duration": 0.036141,
     "end_time": "2024-02-19T21:15:00.191662",
     "exception": false,
     "start_time": "2024-02-19T21:15:00.155521",
     "status": "completed"
    },
    "tags": []
   },
   "outputs": [
    {
     "data": {
      "text/html": [
       "<div>\n",
       "<style scoped>\n",
       "    .dataframe tbody tr th:only-of-type {\n",
       "        vertical-align: middle;\n",
       "    }\n",
       "\n",
       "    .dataframe tbody tr th {\n",
       "        vertical-align: top;\n",
       "    }\n",
       "\n",
       "    .dataframe thead th {\n",
       "        text-align: right;\n",
       "    }\n",
       "</style>\n",
       "<table border=\"1\" class=\"dataframe\">\n",
       "  <thead>\n",
       "    <tr style=\"text-align: right;\">\n",
       "      <th></th>\n",
       "      <th>textID</th>\n",
       "      <th>text</th>\n",
       "      <th>selected_text</th>\n",
       "      <th>sentiment</th>\n",
       "      <th>jaccard_score</th>\n",
       "    </tr>\n",
       "  </thead>\n",
       "  <tbody>\n",
       "    <tr>\n",
       "      <th>0</th>\n",
       "      <td>0fab80d6b2</td>\n",
       "      <td>\\tREALLY?? oh.. sorry yall  lol</td>\n",
       "      <td>sorry</td>\n",
       "      <td>negative</td>\n",
       "      <td>0.200000</td>\n",
       "    </tr>\n",
       "    <tr>\n",
       "      <th>1</th>\n",
       "      <td>8106d4c6fa</td>\n",
       "      <td>_beckett Thanks so much !</td>\n",
       "      <td>beckett Thanks</td>\n",
       "      <td>positive</td>\n",
       "      <td>0.166667</td>\n",
       "    </tr>\n",
       "    <tr>\n",
       "      <th>2</th>\n",
       "      <td>3792c7b13e</td>\n",
       "      <td>You`ll be missed!!  Bring me back  a key...</td>\n",
       "      <td>You`ll be miss</td>\n",
       "      <td>negative</td>\n",
       "      <td>0.222222</td>\n",
       "    </tr>\n",
       "    <tr>\n",
       "      <th>3</th>\n",
       "      <td>b58a92fe10</td>\n",
       "      <td>get lit  I am  http://bit.ly/OASQR</td>\n",
       "      <td>get lit  I am  http://bit.ly/</td>\n",
       "      <td>neutral</td>\n",
       "      <td>0.666667</td>\n",
       "    </tr>\n",
       "    <tr>\n",
       "      <th>4</th>\n",
       "      <td>18180bb2ec</td>\n",
       "      <td>Good morning to you !  Its so pretty outs...</td>\n",
       "      <td>Its so pr</td>\n",
       "      <td>positive</td>\n",
       "      <td>0.181818</td>\n",
       "    </tr>\n",
       "  </tbody>\n",
       "</table>\n",
       "</div>"
      ],
      "text/plain": [
       "       textID                                               text  \\\n",
       "0  0fab80d6b2                    \\tREALLY?? oh.. sorry yall  lol   \n",
       "1  8106d4c6fa                          _beckett Thanks so much !   \n",
       "2  3792c7b13e        You`ll be missed!!  Bring me back  a key...   \n",
       "3  b58a92fe10                 get lit  I am  http://bit.ly/OASQR   \n",
       "4  18180bb2ec       Good morning to you !  Its so pretty outs...   \n",
       "\n",
       "                   selected_text sentiment  jaccard_score  \n",
       "0                          sorry  negative       0.200000  \n",
       "1                 beckett Thanks  positive       0.166667  \n",
       "2                 You`ll be miss  negative       0.222222  \n",
       "3  get lit  I am  http://bit.ly/   neutral       0.666667  \n",
       "4                      Its so pr  positive       0.181818  "
      ]
     },
     "execution_count": 15,
     "metadata": {},
     "output_type": "execute_result"
    }
   ],
   "source": [
    "train.head()"
   ]
  },
  {
   "cell_type": "code",
   "execution_count": 16,
   "id": "9041650b",
   "metadata": {
    "execution": {
     "iopub.execute_input": "2024-02-19T21:15:00.230825Z",
     "iopub.status.busy": "2024-02-19T21:15:00.230434Z",
     "iopub.status.idle": "2024-02-19T21:15:00.259652Z",
     "shell.execute_reply": "2024-02-19T21:15:00.258555Z"
    },
    "papermill": {
     "duration": 0.052173,
     "end_time": "2024-02-19T21:15:00.262410",
     "exception": false,
     "start_time": "2024-02-19T21:15:00.210237",
     "status": "completed"
    },
    "tags": []
   },
   "outputs": [],
   "source": [
    "train.replace({'sentiment':{'negative':0,'neutral':1,'positive':2}},inplace = True)\n",
    "#replace negative-- 0, neutral --1, positive -- 2"
   ]
  },
  {
   "cell_type": "code",
   "execution_count": 17,
   "id": "1137c3e4",
   "metadata": {
    "execution": {
     "iopub.execute_input": "2024-02-19T21:15:00.302001Z",
     "iopub.status.busy": "2024-02-19T21:15:00.301612Z",
     "iopub.status.idle": "2024-02-19T21:15:00.314275Z",
     "shell.execute_reply": "2024-02-19T21:15:00.313075Z"
    },
    "papermill": {
     "duration": 0.035108,
     "end_time": "2024-02-19T21:15:00.316335",
     "exception": false,
     "start_time": "2024-02-19T21:15:00.281227",
     "status": "completed"
    },
    "tags": []
   },
   "outputs": [
    {
     "data": {
      "text/html": [
       "<div>\n",
       "<style scoped>\n",
       "    .dataframe tbody tr th:only-of-type {\n",
       "        vertical-align: middle;\n",
       "    }\n",
       "\n",
       "    .dataframe tbody tr th {\n",
       "        vertical-align: top;\n",
       "    }\n",
       "\n",
       "    .dataframe thead th {\n",
       "        text-align: right;\n",
       "    }\n",
       "</style>\n",
       "<table border=\"1\" class=\"dataframe\">\n",
       "  <thead>\n",
       "    <tr style=\"text-align: right;\">\n",
       "      <th></th>\n",
       "      <th>textID</th>\n",
       "      <th>text</th>\n",
       "      <th>selected_text</th>\n",
       "      <th>sentiment</th>\n",
       "      <th>jaccard_score</th>\n",
       "    </tr>\n",
       "  </thead>\n",
       "  <tbody>\n",
       "    <tr>\n",
       "      <th>0</th>\n",
       "      <td>0fab80d6b2</td>\n",
       "      <td>\\tREALLY?? oh.. sorry yall  lol</td>\n",
       "      <td>sorry</td>\n",
       "      <td>0</td>\n",
       "      <td>0.200000</td>\n",
       "    </tr>\n",
       "    <tr>\n",
       "      <th>1</th>\n",
       "      <td>8106d4c6fa</td>\n",
       "      <td>_beckett Thanks so much !</td>\n",
       "      <td>beckett Thanks</td>\n",
       "      <td>2</td>\n",
       "      <td>0.166667</td>\n",
       "    </tr>\n",
       "    <tr>\n",
       "      <th>2</th>\n",
       "      <td>3792c7b13e</td>\n",
       "      <td>You`ll be missed!!  Bring me back  a key...</td>\n",
       "      <td>You`ll be miss</td>\n",
       "      <td>0</td>\n",
       "      <td>0.222222</td>\n",
       "    </tr>\n",
       "    <tr>\n",
       "      <th>3</th>\n",
       "      <td>b58a92fe10</td>\n",
       "      <td>get lit  I am  http://bit.ly/OASQR</td>\n",
       "      <td>get lit  I am  http://bit.ly/</td>\n",
       "      <td>1</td>\n",
       "      <td>0.666667</td>\n",
       "    </tr>\n",
       "    <tr>\n",
       "      <th>4</th>\n",
       "      <td>18180bb2ec</td>\n",
       "      <td>Good morning to you !  Its so pretty outs...</td>\n",
       "      <td>Its so pr</td>\n",
       "      <td>2</td>\n",
       "      <td>0.181818</td>\n",
       "    </tr>\n",
       "  </tbody>\n",
       "</table>\n",
       "</div>"
      ],
      "text/plain": [
       "       textID                                               text  \\\n",
       "0  0fab80d6b2                    \\tREALLY?? oh.. sorry yall  lol   \n",
       "1  8106d4c6fa                          _beckett Thanks so much !   \n",
       "2  3792c7b13e        You`ll be missed!!  Bring me back  a key...   \n",
       "3  b58a92fe10                 get lit  I am  http://bit.ly/OASQR   \n",
       "4  18180bb2ec       Good morning to you !  Its so pretty outs...   \n",
       "\n",
       "                   selected_text  sentiment  jaccard_score  \n",
       "0                          sorry          0       0.200000  \n",
       "1                 beckett Thanks          2       0.166667  \n",
       "2                 You`ll be miss          0       0.222222  \n",
       "3  get lit  I am  http://bit.ly/          1       0.666667  \n",
       "4                      Its so pr          2       0.181818  "
      ]
     },
     "execution_count": 17,
     "metadata": {},
     "output_type": "execute_result"
    }
   ],
   "source": [
    "train.head()"
   ]
  },
  {
   "cell_type": "code",
   "execution_count": 18,
   "id": "762b7ed1",
   "metadata": {
    "execution": {
     "iopub.execute_input": "2024-02-19T21:15:00.355805Z",
     "iopub.status.busy": "2024-02-19T21:15:00.355401Z",
     "iopub.status.idle": "2024-02-19T21:15:00.380554Z",
     "shell.execute_reply": "2024-02-19T21:15:00.379429Z"
    },
    "papermill": {
     "duration": 0.047768,
     "end_time": "2024-02-19T21:15:00.382973",
     "exception": false,
     "start_time": "2024-02-19T21:15:00.335205",
     "status": "completed"
    },
    "tags": []
   },
   "outputs": [
    {
     "data": {
      "text/html": [
       "<div>\n",
       "<style scoped>\n",
       "    .dataframe tbody tr th:only-of-type {\n",
       "        vertical-align: middle;\n",
       "    }\n",
       "\n",
       "    .dataframe tbody tr th {\n",
       "        vertical-align: top;\n",
       "    }\n",
       "\n",
       "    .dataframe thead th {\n",
       "        text-align: right;\n",
       "    }\n",
       "</style>\n",
       "<table border=\"1\" class=\"dataframe\">\n",
       "  <thead>\n",
       "    <tr style=\"text-align: right;\">\n",
       "      <th></th>\n",
       "      <th>textID</th>\n",
       "      <th>text</th>\n",
       "      <th>selected_text</th>\n",
       "      <th>jaccard_score</th>\n",
       "    </tr>\n",
       "    <tr>\n",
       "      <th>sentiment</th>\n",
       "      <th></th>\n",
       "      <th></th>\n",
       "      <th></th>\n",
       "      <th></th>\n",
       "    </tr>\n",
       "  </thead>\n",
       "  <tbody>\n",
       "    <tr>\n",
       "      <th>0</th>\n",
       "      <td>7781</td>\n",
       "      <td>7781</td>\n",
       "      <td>7781</td>\n",
       "      <td>7781</td>\n",
       "    </tr>\n",
       "    <tr>\n",
       "      <th>1</th>\n",
       "      <td>11117</td>\n",
       "      <td>11117</td>\n",
       "      <td>11117</td>\n",
       "      <td>11117</td>\n",
       "    </tr>\n",
       "    <tr>\n",
       "      <th>2</th>\n",
       "      <td>8582</td>\n",
       "      <td>8582</td>\n",
       "      <td>8582</td>\n",
       "      <td>8582</td>\n",
       "    </tr>\n",
       "  </tbody>\n",
       "</table>\n",
       "</div>"
      ],
      "text/plain": [
       "           textID   text  selected_text  jaccard_score\n",
       "sentiment                                             \n",
       "0            7781   7781           7781           7781\n",
       "1           11117  11117          11117          11117\n",
       "2            8582   8582           8582           8582"
      ]
     },
     "execution_count": 18,
     "metadata": {},
     "output_type": "execute_result"
    }
   ],
   "source": [
    "train.groupby('sentiment').count()"
   ]
  },
  {
   "cell_type": "code",
   "execution_count": 19,
   "id": "e0ba0398",
   "metadata": {
    "execution": {
     "iopub.execute_input": "2024-02-19T21:15:00.485898Z",
     "iopub.status.busy": "2024-02-19T21:15:00.485499Z",
     "iopub.status.idle": "2024-02-19T21:15:00.489975Z",
     "shell.execute_reply": "2024-02-19T21:15:00.488872Z"
    },
    "papermill": {
     "duration": 0.090628,
     "end_time": "2024-02-19T21:15:00.492569",
     "exception": false,
     "start_time": "2024-02-19T21:15:00.401941",
     "status": "completed"
    },
    "tags": []
   },
   "outputs": [],
   "source": [
    "#repeat in test also"
   ]
  },
  {
   "cell_type": "code",
   "execution_count": 20,
   "id": "44f3336c",
   "metadata": {
    "execution": {
     "iopub.execute_input": "2024-02-19T21:15:00.534557Z",
     "iopub.status.busy": "2024-02-19T21:15:00.533718Z",
     "iopub.status.idle": "2024-02-19T21:15:00.545339Z",
     "shell.execute_reply": "2024-02-19T21:15:00.544147Z"
    },
    "papermill": {
     "duration": 0.03544,
     "end_time": "2024-02-19T21:15:00.547827",
     "exception": false,
     "start_time": "2024-02-19T21:15:00.512387",
     "status": "completed"
    },
    "tags": []
   },
   "outputs": [
    {
     "data": {
      "text/html": [
       "<div>\n",
       "<style scoped>\n",
       "    .dataframe tbody tr th:only-of-type {\n",
       "        vertical-align: middle;\n",
       "    }\n",
       "\n",
       "    .dataframe tbody tr th {\n",
       "        vertical-align: top;\n",
       "    }\n",
       "\n",
       "    .dataframe thead th {\n",
       "        text-align: right;\n",
       "    }\n",
       "</style>\n",
       "<table border=\"1\" class=\"dataframe\">\n",
       "  <thead>\n",
       "    <tr style=\"text-align: right;\">\n",
       "      <th></th>\n",
       "      <th>textID</th>\n",
       "      <th>text</th>\n",
       "      <th>sentiment</th>\n",
       "    </tr>\n",
       "  </thead>\n",
       "  <tbody>\n",
       "    <tr>\n",
       "      <th>0</th>\n",
       "      <td>f87dea47db</td>\n",
       "      <td>Last session of the day  http://twitpic.com/67ezh</td>\n",
       "      <td>neutral</td>\n",
       "    </tr>\n",
       "    <tr>\n",
       "      <th>1</th>\n",
       "      <td>96d74cb729</td>\n",
       "      <td>Shanghai is also really exciting (precisely -...</td>\n",
       "      <td>positive</td>\n",
       "    </tr>\n",
       "    <tr>\n",
       "      <th>2</th>\n",
       "      <td>eee518ae67</td>\n",
       "      <td>Recession hit Veronique Branquinho, she has to...</td>\n",
       "      <td>negative</td>\n",
       "    </tr>\n",
       "    <tr>\n",
       "      <th>3</th>\n",
       "      <td>01082688c6</td>\n",
       "      <td>happy bday!</td>\n",
       "      <td>positive</td>\n",
       "    </tr>\n",
       "    <tr>\n",
       "      <th>4</th>\n",
       "      <td>33987a8ee5</td>\n",
       "      <td>http://twitpic.com/4w75p - I like it!!</td>\n",
       "      <td>positive</td>\n",
       "    </tr>\n",
       "  </tbody>\n",
       "</table>\n",
       "</div>"
      ],
      "text/plain": [
       "       textID                                               text sentiment\n",
       "0  f87dea47db  Last session of the day  http://twitpic.com/67ezh   neutral\n",
       "1  96d74cb729   Shanghai is also really exciting (precisely -...  positive\n",
       "2  eee518ae67  Recession hit Veronique Branquinho, she has to...  negative\n",
       "3  01082688c6                                        happy bday!  positive\n",
       "4  33987a8ee5             http://twitpic.com/4w75p - I like it!!  positive"
      ]
     },
     "execution_count": 20,
     "metadata": {},
     "output_type": "execute_result"
    }
   ],
   "source": [
    "test.head()"
   ]
  },
  {
   "cell_type": "code",
   "execution_count": 21,
   "id": "c9bb5758",
   "metadata": {
    "execution": {
     "iopub.execute_input": "2024-02-19T21:15:00.589670Z",
     "iopub.status.busy": "2024-02-19T21:15:00.588863Z",
     "iopub.status.idle": "2024-02-19T21:15:00.598620Z",
     "shell.execute_reply": "2024-02-19T21:15:00.597552Z"
    },
    "papermill": {
     "duration": 0.03348,
     "end_time": "2024-02-19T21:15:00.601006",
     "exception": false,
     "start_time": "2024-02-19T21:15:00.567526",
     "status": "completed"
    },
    "tags": []
   },
   "outputs": [],
   "source": [
    "test.replace({'sentiment':{'negative':0,'neutral':1,'positive':2}},inplace = True)\n",
    "#replace negative-- 0, neutral --1, positive -- 2"
   ]
  },
  {
   "cell_type": "code",
   "execution_count": 22,
   "id": "0cbb7afa",
   "metadata": {
    "execution": {
     "iopub.execute_input": "2024-02-19T21:15:00.642669Z",
     "iopub.status.busy": "2024-02-19T21:15:00.642251Z",
     "iopub.status.idle": "2024-02-19T21:15:00.653272Z",
     "shell.execute_reply": "2024-02-19T21:15:00.652212Z"
    },
    "papermill": {
     "duration": 0.034646,
     "end_time": "2024-02-19T21:15:00.655936",
     "exception": false,
     "start_time": "2024-02-19T21:15:00.621290",
     "status": "completed"
    },
    "tags": []
   },
   "outputs": [
    {
     "data": {
      "text/html": [
       "<div>\n",
       "<style scoped>\n",
       "    .dataframe tbody tr th:only-of-type {\n",
       "        vertical-align: middle;\n",
       "    }\n",
       "\n",
       "    .dataframe tbody tr th {\n",
       "        vertical-align: top;\n",
       "    }\n",
       "\n",
       "    .dataframe thead th {\n",
       "        text-align: right;\n",
       "    }\n",
       "</style>\n",
       "<table border=\"1\" class=\"dataframe\">\n",
       "  <thead>\n",
       "    <tr style=\"text-align: right;\">\n",
       "      <th></th>\n",
       "      <th>textID</th>\n",
       "      <th>text</th>\n",
       "      <th>sentiment</th>\n",
       "    </tr>\n",
       "  </thead>\n",
       "  <tbody>\n",
       "    <tr>\n",
       "      <th>0</th>\n",
       "      <td>f87dea47db</td>\n",
       "      <td>Last session of the day  http://twitpic.com/67ezh</td>\n",
       "      <td>1</td>\n",
       "    </tr>\n",
       "    <tr>\n",
       "      <th>1</th>\n",
       "      <td>96d74cb729</td>\n",
       "      <td>Shanghai is also really exciting (precisely -...</td>\n",
       "      <td>2</td>\n",
       "    </tr>\n",
       "    <tr>\n",
       "      <th>2</th>\n",
       "      <td>eee518ae67</td>\n",
       "      <td>Recession hit Veronique Branquinho, she has to...</td>\n",
       "      <td>0</td>\n",
       "    </tr>\n",
       "    <tr>\n",
       "      <th>3</th>\n",
       "      <td>01082688c6</td>\n",
       "      <td>happy bday!</td>\n",
       "      <td>2</td>\n",
       "    </tr>\n",
       "    <tr>\n",
       "      <th>4</th>\n",
       "      <td>33987a8ee5</td>\n",
       "      <td>http://twitpic.com/4w75p - I like it!!</td>\n",
       "      <td>2</td>\n",
       "    </tr>\n",
       "  </tbody>\n",
       "</table>\n",
       "</div>"
      ],
      "text/plain": [
       "       textID                                               text  sentiment\n",
       "0  f87dea47db  Last session of the day  http://twitpic.com/67ezh          1\n",
       "1  96d74cb729   Shanghai is also really exciting (precisely -...          2\n",
       "2  eee518ae67  Recession hit Veronique Branquinho, she has to...          0\n",
       "3  01082688c6                                        happy bday!          2\n",
       "4  33987a8ee5             http://twitpic.com/4w75p - I like it!!          2"
      ]
     },
     "execution_count": 22,
     "metadata": {},
     "output_type": "execute_result"
    }
   ],
   "source": [
    "test.head()"
   ]
  },
  {
   "cell_type": "code",
   "execution_count": 23,
   "id": "b8e8aceb",
   "metadata": {
    "execution": {
     "iopub.execute_input": "2024-02-19T21:15:00.698487Z",
     "iopub.status.busy": "2024-02-19T21:15:00.697369Z",
     "iopub.status.idle": "2024-02-19T21:15:00.709541Z",
     "shell.execute_reply": "2024-02-19T21:15:00.708405Z"
    },
    "papermill": {
     "duration": 0.035844,
     "end_time": "2024-02-19T21:15:00.711930",
     "exception": false,
     "start_time": "2024-02-19T21:15:00.676086",
     "status": "completed"
    },
    "tags": []
   },
   "outputs": [
    {
     "data": {
      "text/html": [
       "<div>\n",
       "<style scoped>\n",
       "    .dataframe tbody tr th:only-of-type {\n",
       "        vertical-align: middle;\n",
       "    }\n",
       "\n",
       "    .dataframe tbody tr th {\n",
       "        vertical-align: top;\n",
       "    }\n",
       "\n",
       "    .dataframe thead th {\n",
       "        text-align: right;\n",
       "    }\n",
       "</style>\n",
       "<table border=\"1\" class=\"dataframe\">\n",
       "  <thead>\n",
       "    <tr style=\"text-align: right;\">\n",
       "      <th></th>\n",
       "      <th>textID</th>\n",
       "      <th>text</th>\n",
       "    </tr>\n",
       "    <tr>\n",
       "      <th>sentiment</th>\n",
       "      <th></th>\n",
       "      <th></th>\n",
       "    </tr>\n",
       "  </thead>\n",
       "  <tbody>\n",
       "    <tr>\n",
       "      <th>0</th>\n",
       "      <td>1001</td>\n",
       "      <td>1001</td>\n",
       "    </tr>\n",
       "    <tr>\n",
       "      <th>1</th>\n",
       "      <td>1430</td>\n",
       "      <td>1430</td>\n",
       "    </tr>\n",
       "    <tr>\n",
       "      <th>2</th>\n",
       "      <td>1103</td>\n",
       "      <td>1103</td>\n",
       "    </tr>\n",
       "  </tbody>\n",
       "</table>\n",
       "</div>"
      ],
      "text/plain": [
       "           textID  text\n",
       "sentiment              \n",
       "0            1001  1001\n",
       "1            1430  1430\n",
       "2            1103  1103"
      ]
     },
     "execution_count": 23,
     "metadata": {},
     "output_type": "execute_result"
    }
   ],
   "source": [
    "test.groupby('sentiment').count()"
   ]
  },
  {
   "cell_type": "markdown",
   "id": "f1402d1d",
   "metadata": {
    "papermill": {
     "duration": 0.01953,
     "end_time": "2024-02-19T21:15:00.751292",
     "exception": false,
     "start_time": "2024-02-19T21:15:00.731762",
     "status": "completed"
    },
    "tags": []
   },
   "source": [
    "#### Stemming ---reducing a word to its Root word"
   ]
  },
  {
   "cell_type": "code",
   "execution_count": null,
   "id": "bdc49e01",
   "metadata": {
    "papermill": {
     "duration": 0.021197,
     "end_time": "2024-02-19T21:15:00.792432",
     "exception": false,
     "start_time": "2024-02-19T21:15:00.771235",
     "status": "completed"
    },
    "tags": []
   },
   "outputs": [],
   "source": []
  },
  {
   "cell_type": "code",
   "execution_count": 24,
   "id": "d7e6a5e9",
   "metadata": {
    "execution": {
     "iopub.execute_input": "2024-02-19T21:15:00.834240Z",
     "iopub.status.busy": "2024-02-19T21:15:00.833780Z",
     "iopub.status.idle": "2024-02-19T21:15:00.838815Z",
     "shell.execute_reply": "2024-02-19T21:15:00.837877Z"
    },
    "papermill": {
     "duration": 0.028478,
     "end_time": "2024-02-19T21:15:00.840905",
     "exception": false,
     "start_time": "2024-02-19T21:15:00.812427",
     "status": "completed"
    },
    "tags": []
   },
   "outputs": [],
   "source": [
    "from nltk.stem import PorterStemmer\n",
    "from nltk.stem import SnowballStemmer\n",
    "from nltk.stem import WordNetLemmatizer"
   ]
  },
  {
   "cell_type": "code",
   "execution_count": 25,
   "id": "60830fa9",
   "metadata": {
    "execution": {
     "iopub.execute_input": "2024-02-19T21:15:00.882675Z",
     "iopub.status.busy": "2024-02-19T21:15:00.882236Z",
     "iopub.status.idle": "2024-02-19T21:15:00.886966Z",
     "shell.execute_reply": "2024-02-19T21:15:00.885808Z"
    },
    "papermill": {
     "duration": 0.02815,
     "end_time": "2024-02-19T21:15:00.889270",
     "exception": false,
     "start_time": "2024-02-19T21:15:00.861120",
     "status": "completed"
    },
    "tags": []
   },
   "outputs": [],
   "source": [
    "ps = PorterStemmer()"
   ]
  },
  {
   "cell_type": "code",
   "execution_count": 26,
   "id": "7f81c237",
   "metadata": {
    "execution": {
     "iopub.execute_input": "2024-02-19T21:15:00.930914Z",
     "iopub.status.busy": "2024-02-19T21:15:00.930174Z",
     "iopub.status.idle": "2024-02-19T21:15:00.936920Z",
     "shell.execute_reply": "2024-02-19T21:15:00.935940Z"
    },
    "papermill": {
     "duration": 0.030154,
     "end_time": "2024-02-19T21:15:00.939175",
     "exception": false,
     "start_time": "2024-02-19T21:15:00.909021",
     "status": "completed"
    },
    "tags": []
   },
   "outputs": [],
   "source": [
    "def clean_text(text):\n",
    "    text = str(text).lower()\n",
    "    text = re.sub('https?://\\S+|www\\.\\S+','',text)\n",
    "    text = re.sub('\\[.*?\\]','',text)\n",
    "    text = re.sub('[%s]' % re.escape(string.punctuation), '', text)\n",
    "    text = re.sub('\\w*\\d\\w*', '', text)\n",
    "    text = re.sub('\\n', '', text)\n",
    "    \n",
    "    return text"
   ]
  },
  {
   "cell_type": "code",
   "execution_count": 27,
   "id": "950844d8",
   "metadata": {
    "execution": {
     "iopub.execute_input": "2024-02-19T21:15:00.980887Z",
     "iopub.status.busy": "2024-02-19T21:15:00.980128Z",
     "iopub.status.idle": "2024-02-19T21:15:00.992154Z",
     "shell.execute_reply": "2024-02-19T21:15:00.991098Z"
    },
    "papermill": {
     "duration": 0.035548,
     "end_time": "2024-02-19T21:15:00.994506",
     "exception": false,
     "start_time": "2024-02-19T21:15:00.958958",
     "status": "completed"
    },
    "tags": []
   },
   "outputs": [
    {
     "data": {
      "text/html": [
       "<div>\n",
       "<style scoped>\n",
       "    .dataframe tbody tr th:only-of-type {\n",
       "        vertical-align: middle;\n",
       "    }\n",
       "\n",
       "    .dataframe tbody tr th {\n",
       "        vertical-align: top;\n",
       "    }\n",
       "\n",
       "    .dataframe thead th {\n",
       "        text-align: right;\n",
       "    }\n",
       "</style>\n",
       "<table border=\"1\" class=\"dataframe\">\n",
       "  <thead>\n",
       "    <tr style=\"text-align: right;\">\n",
       "      <th></th>\n",
       "      <th>textID</th>\n",
       "      <th>text</th>\n",
       "      <th>selected_text</th>\n",
       "      <th>sentiment</th>\n",
       "      <th>jaccard_score</th>\n",
       "    </tr>\n",
       "  </thead>\n",
       "  <tbody>\n",
       "    <tr>\n",
       "      <th>0</th>\n",
       "      <td>0fab80d6b2</td>\n",
       "      <td>\\tREALLY?? oh.. sorry yall  lol</td>\n",
       "      <td>sorry</td>\n",
       "      <td>0</td>\n",
       "      <td>0.200000</td>\n",
       "    </tr>\n",
       "    <tr>\n",
       "      <th>1</th>\n",
       "      <td>8106d4c6fa</td>\n",
       "      <td>_beckett Thanks so much !</td>\n",
       "      <td>beckett Thanks</td>\n",
       "      <td>2</td>\n",
       "      <td>0.166667</td>\n",
       "    </tr>\n",
       "    <tr>\n",
       "      <th>2</th>\n",
       "      <td>3792c7b13e</td>\n",
       "      <td>You`ll be missed!!  Bring me back  a key...</td>\n",
       "      <td>You`ll be miss</td>\n",
       "      <td>0</td>\n",
       "      <td>0.222222</td>\n",
       "    </tr>\n",
       "    <tr>\n",
       "      <th>3</th>\n",
       "      <td>b58a92fe10</td>\n",
       "      <td>get lit  I am  http://bit.ly/OASQR</td>\n",
       "      <td>get lit  I am  http://bit.ly/</td>\n",
       "      <td>1</td>\n",
       "      <td>0.666667</td>\n",
       "    </tr>\n",
       "    <tr>\n",
       "      <th>4</th>\n",
       "      <td>18180bb2ec</td>\n",
       "      <td>Good morning to you !  Its so pretty outs...</td>\n",
       "      <td>Its so pr</td>\n",
       "      <td>2</td>\n",
       "      <td>0.181818</td>\n",
       "    </tr>\n",
       "  </tbody>\n",
       "</table>\n",
       "</div>"
      ],
      "text/plain": [
       "       textID                                               text  \\\n",
       "0  0fab80d6b2                    \\tREALLY?? oh.. sorry yall  lol   \n",
       "1  8106d4c6fa                          _beckett Thanks so much !   \n",
       "2  3792c7b13e        You`ll be missed!!  Bring me back  a key...   \n",
       "3  b58a92fe10                 get lit  I am  http://bit.ly/OASQR   \n",
       "4  18180bb2ec       Good morning to you !  Its so pretty outs...   \n",
       "\n",
       "                   selected_text  sentiment  jaccard_score  \n",
       "0                          sorry          0       0.200000  \n",
       "1                 beckett Thanks          2       0.166667  \n",
       "2                 You`ll be miss          0       0.222222  \n",
       "3  get lit  I am  http://bit.ly/          1       0.666667  \n",
       "4                      Its so pr          2       0.181818  "
      ]
     },
     "execution_count": 27,
     "metadata": {},
     "output_type": "execute_result"
    }
   ],
   "source": [
    "train.head()"
   ]
  },
  {
   "cell_type": "code",
   "execution_count": 28,
   "id": "8e9c7811",
   "metadata": {
    "execution": {
     "iopub.execute_input": "2024-02-19T21:15:01.036678Z",
     "iopub.status.busy": "2024-02-19T21:15:01.036229Z",
     "iopub.status.idle": "2024-02-19T21:15:01.907007Z",
     "shell.execute_reply": "2024-02-19T21:15:01.905779Z"
    },
    "papermill": {
     "duration": 0.895041,
     "end_time": "2024-02-19T21:15:01.909715",
     "exception": false,
     "start_time": "2024-02-19T21:15:01.014674",
     "status": "completed"
    },
    "tags": []
   },
   "outputs": [],
   "source": [
    "train['cleaned_text'] = train['text'].apply(lambda x: clean_text(x))"
   ]
  },
  {
   "cell_type": "code",
   "execution_count": 29,
   "id": "945c7421",
   "metadata": {
    "execution": {
     "iopub.execute_input": "2024-02-19T21:15:01.953430Z",
     "iopub.status.busy": "2024-02-19T21:15:01.952675Z",
     "iopub.status.idle": "2024-02-19T21:15:01.964648Z",
     "shell.execute_reply": "2024-02-19T21:15:01.963528Z"
    },
    "papermill": {
     "duration": 0.036294,
     "end_time": "2024-02-19T21:15:01.966955",
     "exception": false,
     "start_time": "2024-02-19T21:15:01.930661",
     "status": "completed"
    },
    "tags": []
   },
   "outputs": [
    {
     "data": {
      "text/html": [
       "<div>\n",
       "<style scoped>\n",
       "    .dataframe tbody tr th:only-of-type {\n",
       "        vertical-align: middle;\n",
       "    }\n",
       "\n",
       "    .dataframe tbody tr th {\n",
       "        vertical-align: top;\n",
       "    }\n",
       "\n",
       "    .dataframe thead th {\n",
       "        text-align: right;\n",
       "    }\n",
       "</style>\n",
       "<table border=\"1\" class=\"dataframe\">\n",
       "  <thead>\n",
       "    <tr style=\"text-align: right;\">\n",
       "      <th></th>\n",
       "      <th>textID</th>\n",
       "      <th>text</th>\n",
       "      <th>selected_text</th>\n",
       "      <th>sentiment</th>\n",
       "      <th>jaccard_score</th>\n",
       "      <th>cleaned_text</th>\n",
       "    </tr>\n",
       "  </thead>\n",
       "  <tbody>\n",
       "    <tr>\n",
       "      <th>0</th>\n",
       "      <td>0fab80d6b2</td>\n",
       "      <td>\\tREALLY?? oh.. sorry yall  lol</td>\n",
       "      <td>sorry</td>\n",
       "      <td>0</td>\n",
       "      <td>0.200000</td>\n",
       "      <td>\\treally oh sorry yall  lol</td>\n",
       "    </tr>\n",
       "    <tr>\n",
       "      <th>1</th>\n",
       "      <td>8106d4c6fa</td>\n",
       "      <td>_beckett Thanks so much !</td>\n",
       "      <td>beckett Thanks</td>\n",
       "      <td>2</td>\n",
       "      <td>0.166667</td>\n",
       "      <td>beckett thanks so much</td>\n",
       "    </tr>\n",
       "    <tr>\n",
       "      <th>2</th>\n",
       "      <td>3792c7b13e</td>\n",
       "      <td>You`ll be missed!!  Bring me back  a key...</td>\n",
       "      <td>You`ll be miss</td>\n",
       "      <td>0</td>\n",
       "      <td>0.222222</td>\n",
       "      <td>youll be missed  bring me back  a keychain</td>\n",
       "    </tr>\n",
       "    <tr>\n",
       "      <th>3</th>\n",
       "      <td>b58a92fe10</td>\n",
       "      <td>get lit  I am  http://bit.ly/OASQR</td>\n",
       "      <td>get lit  I am  http://bit.ly/</td>\n",
       "      <td>1</td>\n",
       "      <td>0.666667</td>\n",
       "      <td>get lit  i am</td>\n",
       "    </tr>\n",
       "    <tr>\n",
       "      <th>4</th>\n",
       "      <td>18180bb2ec</td>\n",
       "      <td>Good morning to you !  Its so pretty outs...</td>\n",
       "      <td>Its so pr</td>\n",
       "      <td>2</td>\n",
       "      <td>0.181818</td>\n",
       "      <td>good morning to you   its so pretty outsi...</td>\n",
       "    </tr>\n",
       "  </tbody>\n",
       "</table>\n",
       "</div>"
      ],
      "text/plain": [
       "       textID                                               text  \\\n",
       "0  0fab80d6b2                    \\tREALLY?? oh.. sorry yall  lol   \n",
       "1  8106d4c6fa                          _beckett Thanks so much !   \n",
       "2  3792c7b13e        You`ll be missed!!  Bring me back  a key...   \n",
       "3  b58a92fe10                 get lit  I am  http://bit.ly/OASQR   \n",
       "4  18180bb2ec       Good morning to you !  Its so pretty outs...   \n",
       "\n",
       "                   selected_text  sentiment  jaccard_score  \\\n",
       "0                          sorry          0       0.200000   \n",
       "1                 beckett Thanks          2       0.166667   \n",
       "2                 You`ll be miss          0       0.222222   \n",
       "3  get lit  I am  http://bit.ly/          1       0.666667   \n",
       "4                      Its so pr          2       0.181818   \n",
       "\n",
       "                                        cleaned_text  \n",
       "0                        \\treally oh sorry yall  lol  \n",
       "1                            beckett thanks so much   \n",
       "2         youll be missed  bring me back  a keychain  \n",
       "3                                    get lit  i am    \n",
       "4       good morning to you   its so pretty outsi...  "
      ]
     },
     "execution_count": 29,
     "metadata": {},
     "output_type": "execute_result"
    }
   ],
   "source": [
    "train.head()"
   ]
  },
  {
   "cell_type": "code",
   "execution_count": 30,
   "id": "d2efd8fc",
   "metadata": {
    "execution": {
     "iopub.execute_input": "2024-02-19T21:15:02.009494Z",
     "iopub.status.busy": "2024-02-19T21:15:02.008724Z",
     "iopub.status.idle": "2024-02-19T21:15:02.014407Z",
     "shell.execute_reply": "2024-02-19T21:15:02.013614Z"
    },
    "papermill": {
     "duration": 0.029587,
     "end_time": "2024-02-19T21:15:02.016581",
     "exception": false,
     "start_time": "2024-02-19T21:15:01.986994",
     "status": "completed"
    },
    "tags": []
   },
   "outputs": [],
   "source": [
    "def stemming(text):\n",
    "    text = text.lower()\n",
    "    text = text.split()\n",
    "    text = [ps.stem(word) for word in text if word not in stopwords.words('english')]\n",
    "    text = ' '.join(text)\n",
    "    \n",
    "    return text\n",
    "        \n",
    "        \n",
    "        \n",
    "      "
   ]
  },
  {
   "cell_type": "code",
   "execution_count": 31,
   "id": "1599f6d1",
   "metadata": {
    "execution": {
     "iopub.execute_input": "2024-02-19T21:15:02.059434Z",
     "iopub.status.busy": "2024-02-19T21:15:02.059031Z",
     "iopub.status.idle": "2024-02-19T21:15:57.752640Z",
     "shell.execute_reply": "2024-02-19T21:15:57.751321Z"
    },
    "papermill": {
     "duration": 55.718718,
     "end_time": "2024-02-19T21:15:57.755538",
     "exception": false,
     "start_time": "2024-02-19T21:15:02.036820",
     "status": "completed"
    },
    "tags": []
   },
   "outputs": [],
   "source": [
    "train['stemmed_text'] = train['cleaned_text'].apply(lambda x: stemming(x))"
   ]
  },
  {
   "cell_type": "code",
   "execution_count": 32,
   "id": "5a73a47b",
   "metadata": {
    "execution": {
     "iopub.execute_input": "2024-02-19T21:15:57.798227Z",
     "iopub.status.busy": "2024-02-19T21:15:57.797811Z",
     "iopub.status.idle": "2024-02-19T21:15:57.811757Z",
     "shell.execute_reply": "2024-02-19T21:15:57.810978Z"
    },
    "papermill": {
     "duration": 0.040417,
     "end_time": "2024-02-19T21:15:57.816669",
     "exception": false,
     "start_time": "2024-02-19T21:15:57.776252",
     "status": "completed"
    },
    "tags": []
   },
   "outputs": [
    {
     "data": {
      "text/html": [
       "<div>\n",
       "<style scoped>\n",
       "    .dataframe tbody tr th:only-of-type {\n",
       "        vertical-align: middle;\n",
       "    }\n",
       "\n",
       "    .dataframe tbody tr th {\n",
       "        vertical-align: top;\n",
       "    }\n",
       "\n",
       "    .dataframe thead th {\n",
       "        text-align: right;\n",
       "    }\n",
       "</style>\n",
       "<table border=\"1\" class=\"dataframe\">\n",
       "  <thead>\n",
       "    <tr style=\"text-align: right;\">\n",
       "      <th></th>\n",
       "      <th>textID</th>\n",
       "      <th>text</th>\n",
       "      <th>selected_text</th>\n",
       "      <th>sentiment</th>\n",
       "      <th>jaccard_score</th>\n",
       "      <th>cleaned_text</th>\n",
       "      <th>stemmed_text</th>\n",
       "    </tr>\n",
       "  </thead>\n",
       "  <tbody>\n",
       "    <tr>\n",
       "      <th>0</th>\n",
       "      <td>0fab80d6b2</td>\n",
       "      <td>\\tREALLY?? oh.. sorry yall  lol</td>\n",
       "      <td>sorry</td>\n",
       "      <td>0</td>\n",
       "      <td>0.200000</td>\n",
       "      <td>\\treally oh sorry yall  lol</td>\n",
       "      <td>realli oh sorri yall lol</td>\n",
       "    </tr>\n",
       "    <tr>\n",
       "      <th>1</th>\n",
       "      <td>8106d4c6fa</td>\n",
       "      <td>_beckett Thanks so much !</td>\n",
       "      <td>beckett Thanks</td>\n",
       "      <td>2</td>\n",
       "      <td>0.166667</td>\n",
       "      <td>beckett thanks so much</td>\n",
       "      <td>beckett thank much</td>\n",
       "    </tr>\n",
       "    <tr>\n",
       "      <th>2</th>\n",
       "      <td>3792c7b13e</td>\n",
       "      <td>You`ll be missed!!  Bring me back  a key...</td>\n",
       "      <td>You`ll be miss</td>\n",
       "      <td>0</td>\n",
       "      <td>0.222222</td>\n",
       "      <td>youll be missed  bring me back  a keychain</td>\n",
       "      <td>youll miss bring back keychain</td>\n",
       "    </tr>\n",
       "    <tr>\n",
       "      <th>3</th>\n",
       "      <td>b58a92fe10</td>\n",
       "      <td>get lit  I am  http://bit.ly/OASQR</td>\n",
       "      <td>get lit  I am  http://bit.ly/</td>\n",
       "      <td>1</td>\n",
       "      <td>0.666667</td>\n",
       "      <td>get lit  i am</td>\n",
       "      <td>get lit</td>\n",
       "    </tr>\n",
       "    <tr>\n",
       "      <th>4</th>\n",
       "      <td>18180bb2ec</td>\n",
       "      <td>Good morning to you !  Its so pretty outs...</td>\n",
       "      <td>Its so pr</td>\n",
       "      <td>2</td>\n",
       "      <td>0.181818</td>\n",
       "      <td>good morning to you   its so pretty outsi...</td>\n",
       "      <td>good morn pretti outsid today</td>\n",
       "    </tr>\n",
       "  </tbody>\n",
       "</table>\n",
       "</div>"
      ],
      "text/plain": [
       "       textID                                               text  \\\n",
       "0  0fab80d6b2                    \\tREALLY?? oh.. sorry yall  lol   \n",
       "1  8106d4c6fa                          _beckett Thanks so much !   \n",
       "2  3792c7b13e        You`ll be missed!!  Bring me back  a key...   \n",
       "3  b58a92fe10                 get lit  I am  http://bit.ly/OASQR   \n",
       "4  18180bb2ec       Good morning to you !  Its so pretty outs...   \n",
       "\n",
       "                   selected_text  sentiment  jaccard_score  \\\n",
       "0                          sorry          0       0.200000   \n",
       "1                 beckett Thanks          2       0.166667   \n",
       "2                 You`ll be miss          0       0.222222   \n",
       "3  get lit  I am  http://bit.ly/          1       0.666667   \n",
       "4                      Its so pr          2       0.181818   \n",
       "\n",
       "                                        cleaned_text  \\\n",
       "0                        \\treally oh sorry yall  lol   \n",
       "1                            beckett thanks so much    \n",
       "2         youll be missed  bring me back  a keychain   \n",
       "3                                    get lit  i am     \n",
       "4       good morning to you   its so pretty outsi...   \n",
       "\n",
       "                     stemmed_text  \n",
       "0        realli oh sorri yall lol  \n",
       "1              beckett thank much  \n",
       "2  youll miss bring back keychain  \n",
       "3                         get lit  \n",
       "4   good morn pretti outsid today  "
      ]
     },
     "execution_count": 32,
     "metadata": {},
     "output_type": "execute_result"
    }
   ],
   "source": [
    "train.head()"
   ]
  },
  {
   "cell_type": "code",
   "execution_count": 33,
   "id": "6c313b9e",
   "metadata": {
    "execution": {
     "iopub.execute_input": "2024-02-19T21:15:57.877716Z",
     "iopub.status.busy": "2024-02-19T21:15:57.875849Z",
     "iopub.status.idle": "2024-02-19T21:15:57.882572Z",
     "shell.execute_reply": "2024-02-19T21:15:57.881727Z"
    },
    "papermill": {
     "duration": 0.040402,
     "end_time": "2024-02-19T21:15:57.885789",
     "exception": false,
     "start_time": "2024-02-19T21:15:57.845387",
     "status": "completed"
    },
    "tags": []
   },
   "outputs": [],
   "source": [
    "#seprating the data and label\n",
    "X = train['stemmed_text'].values"
   ]
  },
  {
   "cell_type": "code",
   "execution_count": 34,
   "id": "47e00028",
   "metadata": {
    "execution": {
     "iopub.execute_input": "2024-02-19T21:15:57.930221Z",
     "iopub.status.busy": "2024-02-19T21:15:57.929236Z",
     "iopub.status.idle": "2024-02-19T21:15:57.933913Z",
     "shell.execute_reply": "2024-02-19T21:15:57.932849Z"
    },
    "papermill": {
     "duration": 0.02927,
     "end_time": "2024-02-19T21:15:57.936201",
     "exception": false,
     "start_time": "2024-02-19T21:15:57.906931",
     "status": "completed"
    },
    "tags": []
   },
   "outputs": [],
   "source": [
    "y= train['sentiment'].values"
   ]
  },
  {
   "cell_type": "code",
   "execution_count": 35,
   "id": "e94d3345",
   "metadata": {
    "execution": {
     "iopub.execute_input": "2024-02-19T21:15:57.979549Z",
     "iopub.status.busy": "2024-02-19T21:15:57.978837Z",
     "iopub.status.idle": "2024-02-19T21:15:57.985439Z",
     "shell.execute_reply": "2024-02-19T21:15:57.984454Z"
    },
    "papermill": {
     "duration": 0.030962,
     "end_time": "2024-02-19T21:15:57.987901",
     "exception": false,
     "start_time": "2024-02-19T21:15:57.956939",
     "status": "completed"
    },
    "tags": []
   },
   "outputs": [
    {
     "data": {
      "text/plain": [
       "array([0, 2, 0, ..., 2, 1, 1])"
      ]
     },
     "execution_count": 35,
     "metadata": {},
     "output_type": "execute_result"
    }
   ],
   "source": [
    "y"
   ]
  },
  {
   "cell_type": "code",
   "execution_count": 36,
   "id": "2d12fcf6",
   "metadata": {
    "execution": {
     "iopub.execute_input": "2024-02-19T21:15:58.033775Z",
     "iopub.status.busy": "2024-02-19T21:15:58.032728Z",
     "iopub.status.idle": "2024-02-19T21:15:58.054135Z",
     "shell.execute_reply": "2024-02-19T21:15:58.053225Z"
    },
    "papermill": {
     "duration": 0.048007,
     "end_time": "2024-02-19T21:15:58.056616",
     "exception": false,
     "start_time": "2024-02-19T21:15:58.008609",
     "status": "completed"
    },
    "tags": []
   },
   "outputs": [],
   "source": [
    "from sklearn.model_selection import train_test_split\n",
    "X_train,X_test,y_train,y_test = train_test_split(X,y,test_size=0.2,stratify=y,random_state=2)"
   ]
  },
  {
   "cell_type": "code",
   "execution_count": 37,
   "id": "aa5996f4",
   "metadata": {
    "execution": {
     "iopub.execute_input": "2024-02-19T21:15:58.100748Z",
     "iopub.status.busy": "2024-02-19T21:15:58.099700Z",
     "iopub.status.idle": "2024-02-19T21:15:58.106574Z",
     "shell.execute_reply": "2024-02-19T21:15:58.105637Z"
    },
    "papermill": {
     "duration": 0.031296,
     "end_time": "2024-02-19T21:15:58.108714",
     "exception": false,
     "start_time": "2024-02-19T21:15:58.077418",
     "status": "completed"
    },
    "tags": []
   },
   "outputs": [
    {
     "data": {
      "text/plain": [
       "(5496,)"
      ]
     },
     "execution_count": 37,
     "metadata": {},
     "output_type": "execute_result"
    }
   ],
   "source": [
    "X_test.shape"
   ]
  },
  {
   "cell_type": "markdown",
   "id": "560f0502",
   "metadata": {
    "papermill": {
     "duration": 0.020983,
     "end_time": "2024-02-19T21:15:58.151097",
     "exception": false,
     "start_time": "2024-02-19T21:15:58.130114",
     "status": "completed"
    },
    "tags": []
   },
   "source": [
    "#### Text to Vector"
   ]
  },
  {
   "cell_type": "markdown",
   "id": "53af869e",
   "metadata": {
    "papermill": {
     "duration": 0.020651,
     "end_time": "2024-02-19T21:15:58.193055",
     "exception": false,
     "start_time": "2024-02-19T21:15:58.172404",
     "status": "completed"
    },
    "tags": []
   },
   "source": [
    "**TfIdf**"
   ]
  },
  {
   "cell_type": "code",
   "execution_count": 38,
   "id": "c3202b46",
   "metadata": {
    "execution": {
     "iopub.execute_input": "2024-02-19T21:15:58.236411Z",
     "iopub.status.busy": "2024-02-19T21:15:58.235766Z",
     "iopub.status.idle": "2024-02-19T21:15:59.338368Z",
     "shell.execute_reply": "2024-02-19T21:15:59.337381Z"
    },
    "papermill": {
     "duration": 1.127202,
     "end_time": "2024-02-19T21:15:59.341114",
     "exception": false,
     "start_time": "2024-02-19T21:15:58.213912",
     "status": "completed"
    },
    "tags": []
   },
   "outputs": [],
   "source": [
    "from sklearn.feature_extraction.text import TfidfVectorizer\n",
    "tv = TfidfVectorizer(max_features=2500,ngram_range=(1,2))\n",
    "X_train = tv.fit_transform(X_train)\n",
    "\n",
    "X_test = tv.transform(X_test)"
   ]
  },
  {
   "cell_type": "code",
   "execution_count": 39,
   "id": "08277495",
   "metadata": {
    "execution": {
     "iopub.execute_input": "2024-02-19T21:15:59.384478Z",
     "iopub.status.busy": "2024-02-19T21:15:59.384049Z",
     "iopub.status.idle": "2024-02-19T21:15:59.391339Z",
     "shell.execute_reply": "2024-02-19T21:15:59.390259Z"
    },
    "papermill": {
     "duration": 0.03174,
     "end_time": "2024-02-19T21:15:59.393832",
     "exception": false,
     "start_time": "2024-02-19T21:15:59.362092",
     "status": "completed"
    },
    "tags": []
   },
   "outputs": [
    {
     "name": "stdout",
     "output_type": "stream",
     "text": [
      "  (0, 2188)\t0.5326848979717773\n",
      "  (0, 583)\t0.41865741549351326\n",
      "  (0, 714)\t0.48001695434678754\n",
      "  (0, 865)\t0.23798457264238307\n",
      "  (0, 2185)\t0.29222723392900346\n",
      "  (0, 1249)\t0.2966955722097959\n",
      "  (0, 577)\t0.2837160831363822\n",
      "  (1, 2212)\t0.34095623725938357\n",
      "  (1, 1976)\t0.5628598034800784\n",
      "  (1, 385)\t0.4275823616333883\n",
      "  (1, 1404)\t0.5725757355096576\n",
      "  (1, 865)\t0.2372088468541585\n",
      "  (2, 95)\t0.5089039985495529\n",
      "  (2, 668)\t0.49617202922678133\n",
      "  (2, 1083)\t0.3746659719244047\n",
      "  (2, 898)\t0.25230170886819714\n",
      "  (2, 756)\t0.37223635003276545\n",
      "  (2, 997)\t0.39017867006240603\n",
      "  (3, 178)\t0.4973538806270904\n",
      "  (3, 533)\t0.5656277409988381\n",
      "  (3, 2399)\t0.5463903060943894\n",
      "  (3, 1337)\t0.3662813255460954\n",
      "  (4, 2132)\t1.0\n",
      "  (5, 2367)\t0.4726680596910615\n",
      "  (5, 1240)\t0.42091669920057445\n",
      "  :\t:\n",
      "  (21979, 1369)\t1.0\n",
      "  (21980, 32)\t0.439883767886772\n",
      "  (21980, 1644)\t0.4353068683603797\n",
      "  (21980, 1702)\t0.5712520460602676\n",
      "  (21980, 1750)\t0.3918117337475809\n",
      "  (21980, 920)\t0.28427985241729375\n",
      "  (21980, 488)\t0.2373811951003912\n",
      "  (21981, 1816)\t0.7618412333274226\n",
      "  (21981, 1582)\t0.5675134020384378\n",
      "  (21981, 1123)\t0.3122922889040172\n",
      "  (21982, 1619)\t0.47458806547423915\n",
      "  (21982, 2043)\t0.4503451627578393\n",
      "  (21982, 1987)\t0.3999165733381162\n",
      "  (21982, 1985)\t0.3362083230253388\n",
      "  (21982, 1775)\t0.38851924106435637\n",
      "  (21982, 1303)\t0.2236123157917615\n",
      "  (21982, 1351)\t0.22341239949218897\n",
      "  (21982, 898)\t0.21937030722089007\n",
      "  (21983, 767)\t0.451514200352342\n",
      "  (21983, 765)\t0.3268945404259529\n",
      "  (21983, 1875)\t0.41013394105794143\n",
      "  (21983, 1267)\t0.28098400413870206\n",
      "  (21983, 974)\t0.2861237243588505\n",
      "  (21983, 669)\t0.3350335797245032\n",
      "  (21983, 2185)\t0.49799471979766885\n"
     ]
    }
   ],
   "source": [
    "print(X_train)"
   ]
  },
  {
   "cell_type": "markdown",
   "id": "87130fd0",
   "metadata": {
    "papermill": {
     "duration": 0.021281,
     "end_time": "2024-02-19T21:15:59.435855",
     "exception": false,
     "start_time": "2024-02-19T21:15:59.414574",
     "status": "completed"
    },
    "tags": []
   },
   "source": [
    "**Traing the model**"
   ]
  },
  {
   "cell_type": "code",
   "execution_count": 40,
   "id": "090b1614",
   "metadata": {
    "execution": {
     "iopub.execute_input": "2024-02-19T21:15:59.480724Z",
     "iopub.status.busy": "2024-02-19T21:15:59.479537Z",
     "iopub.status.idle": "2024-02-19T21:16:00.371341Z",
     "shell.execute_reply": "2024-02-19T21:16:00.370244Z"
    },
    "papermill": {
     "duration": 0.916498,
     "end_time": "2024-02-19T21:16:00.373576",
     "exception": false,
     "start_time": "2024-02-19T21:15:59.457078",
     "status": "completed"
    },
    "tags": []
   },
   "outputs": [
    {
     "data": {
      "text/html": [
       "<style>#sk-container-id-1 {color: black;background-color: white;}#sk-container-id-1 pre{padding: 0;}#sk-container-id-1 div.sk-toggleable {background-color: white;}#sk-container-id-1 label.sk-toggleable__label {cursor: pointer;display: block;width: 100%;margin-bottom: 0;padding: 0.3em;box-sizing: border-box;text-align: center;}#sk-container-id-1 label.sk-toggleable__label-arrow:before {content: \"▸\";float: left;margin-right: 0.25em;color: #696969;}#sk-container-id-1 label.sk-toggleable__label-arrow:hover:before {color: black;}#sk-container-id-1 div.sk-estimator:hover label.sk-toggleable__label-arrow:before {color: black;}#sk-container-id-1 div.sk-toggleable__content {max-height: 0;max-width: 0;overflow: hidden;text-align: left;background-color: #f0f8ff;}#sk-container-id-1 div.sk-toggleable__content pre {margin: 0.2em;color: black;border-radius: 0.25em;background-color: #f0f8ff;}#sk-container-id-1 input.sk-toggleable__control:checked~div.sk-toggleable__content {max-height: 200px;max-width: 100%;overflow: auto;}#sk-container-id-1 input.sk-toggleable__control:checked~label.sk-toggleable__label-arrow:before {content: \"▾\";}#sk-container-id-1 div.sk-estimator input.sk-toggleable__control:checked~label.sk-toggleable__label {background-color: #d4ebff;}#sk-container-id-1 div.sk-label input.sk-toggleable__control:checked~label.sk-toggleable__label {background-color: #d4ebff;}#sk-container-id-1 input.sk-hidden--visually {border: 0;clip: rect(1px 1px 1px 1px);clip: rect(1px, 1px, 1px, 1px);height: 1px;margin: -1px;overflow: hidden;padding: 0;position: absolute;width: 1px;}#sk-container-id-1 div.sk-estimator {font-family: monospace;background-color: #f0f8ff;border: 1px dotted black;border-radius: 0.25em;box-sizing: border-box;margin-bottom: 0.5em;}#sk-container-id-1 div.sk-estimator:hover {background-color: #d4ebff;}#sk-container-id-1 div.sk-parallel-item::after {content: \"\";width: 100%;border-bottom: 1px solid gray;flex-grow: 1;}#sk-container-id-1 div.sk-label:hover label.sk-toggleable__label {background-color: #d4ebff;}#sk-container-id-1 div.sk-serial::before {content: \"\";position: absolute;border-left: 1px solid gray;box-sizing: border-box;top: 0;bottom: 0;left: 50%;z-index: 0;}#sk-container-id-1 div.sk-serial {display: flex;flex-direction: column;align-items: center;background-color: white;padding-right: 0.2em;padding-left: 0.2em;position: relative;}#sk-container-id-1 div.sk-item {position: relative;z-index: 1;}#sk-container-id-1 div.sk-parallel {display: flex;align-items: stretch;justify-content: center;background-color: white;position: relative;}#sk-container-id-1 div.sk-item::before, #sk-container-id-1 div.sk-parallel-item::before {content: \"\";position: absolute;border-left: 1px solid gray;box-sizing: border-box;top: 0;bottom: 0;left: 50%;z-index: -1;}#sk-container-id-1 div.sk-parallel-item {display: flex;flex-direction: column;z-index: 1;position: relative;background-color: white;}#sk-container-id-1 div.sk-parallel-item:first-child::after {align-self: flex-end;width: 50%;}#sk-container-id-1 div.sk-parallel-item:last-child::after {align-self: flex-start;width: 50%;}#sk-container-id-1 div.sk-parallel-item:only-child::after {width: 0;}#sk-container-id-1 div.sk-dashed-wrapped {border: 1px dashed gray;margin: 0 0.4em 0.5em 0.4em;box-sizing: border-box;padding-bottom: 0.4em;background-color: white;}#sk-container-id-1 div.sk-label label {font-family: monospace;font-weight: bold;display: inline-block;line-height: 1.2em;}#sk-container-id-1 div.sk-label-container {text-align: center;}#sk-container-id-1 div.sk-container {/* jupyter's `normalize.less` sets `[hidden] { display: none; }` but bootstrap.min.css set `[hidden] { display: none !important; }` so we also need the `!important` here to be able to override the default hidden behavior on the sphinx rendered scikit-learn.org. See: https://github.com/scikit-learn/scikit-learn/issues/21755 */display: inline-block !important;position: relative;}#sk-container-id-1 div.sk-text-repr-fallback {display: none;}</style><div id=\"sk-container-id-1\" class=\"sk-top-container\"><div class=\"sk-text-repr-fallback\"><pre>LogisticRegression(max_iter=1000, multi_class=&#x27;multinomial&#x27;)</pre><b>In a Jupyter environment, please rerun this cell to show the HTML representation or trust the notebook. <br />On GitHub, the HTML representation is unable to render, please try loading this page with nbviewer.org.</b></div><div class=\"sk-container\" hidden><div class=\"sk-item\"><div class=\"sk-estimator sk-toggleable\"><input class=\"sk-toggleable__control sk-hidden--visually\" id=\"sk-estimator-id-1\" type=\"checkbox\" checked><label for=\"sk-estimator-id-1\" class=\"sk-toggleable__label sk-toggleable__label-arrow\">LogisticRegression</label><div class=\"sk-toggleable__content\"><pre>LogisticRegression(max_iter=1000, multi_class=&#x27;multinomial&#x27;)</pre></div></div></div></div></div>"
      ],
      "text/plain": [
       "LogisticRegression(max_iter=1000, multi_class='multinomial')"
      ]
     },
     "execution_count": 40,
     "metadata": {},
     "output_type": "execute_result"
    }
   ],
   "source": [
    "from sklearn.linear_model import LogisticRegression\n",
    "\n",
    "model = LogisticRegression(max_iter= 1000,multi_class='multinomial')\n",
    "model.fit(X_train,y_train)"
   ]
  },
  {
   "cell_type": "markdown",
   "id": "62f83136",
   "metadata": {
    "papermill": {
     "duration": 0.022909,
     "end_time": "2024-02-19T21:16:00.418469",
     "exception": false,
     "start_time": "2024-02-19T21:16:00.395560",
     "status": "completed"
    },
    "tags": []
   },
   "source": [
    "**Model Evaluation will use Accuracy Score**"
   ]
  },
  {
   "cell_type": "code",
   "execution_count": 41,
   "id": "e1cf8ac6",
   "metadata": {
    "execution": {
     "iopub.execute_input": "2024-02-19T21:16:00.464332Z",
     "iopub.status.busy": "2024-02-19T21:16:00.463907Z",
     "iopub.status.idle": "2024-02-19T21:16:00.467961Z",
     "shell.execute_reply": "2024-02-19T21:16:00.467153Z"
    },
    "papermill": {
     "duration": 0.03,
     "end_time": "2024-02-19T21:16:00.470110",
     "exception": false,
     "start_time": "2024-02-19T21:16:00.440110",
     "status": "completed"
    },
    "tags": []
   },
   "outputs": [],
   "source": [
    "from sklearn.metrics import accuracy_score"
   ]
  },
  {
   "cell_type": "code",
   "execution_count": 42,
   "id": "dccbc978",
   "metadata": {
    "execution": {
     "iopub.execute_input": "2024-02-19T21:16:00.516048Z",
     "iopub.status.busy": "2024-02-19T21:16:00.515341Z",
     "iopub.status.idle": "2024-02-19T21:16:00.526832Z",
     "shell.execute_reply": "2024-02-19T21:16:00.525645Z"
    },
    "papermill": {
     "duration": 0.037083,
     "end_time": "2024-02-19T21:16:00.529074",
     "exception": false,
     "start_time": "2024-02-19T21:16:00.491991",
     "status": "completed"
    },
    "tags": []
   },
   "outputs": [
    {
     "data": {
      "text/plain": [
       "0.754730713245997"
      ]
     },
     "execution_count": 42,
     "metadata": {},
     "output_type": "execute_result"
    }
   ],
   "source": [
    "#accuracy score in Training data\n",
    "y_pred = model.predict(X_train)\n",
    "accuracy = accuracy_score(y_pred,y_train)\n",
    "accuracy"
   ]
  },
  {
   "cell_type": "code",
   "execution_count": 43,
   "id": "a6e26c0c",
   "metadata": {
    "execution": {
     "iopub.execute_input": "2024-02-19T21:16:00.574850Z",
     "iopub.status.busy": "2024-02-19T21:16:00.573935Z",
     "iopub.status.idle": "2024-02-19T21:16:00.582107Z",
     "shell.execute_reply": "2024-02-19T21:16:00.581359Z"
    },
    "papermill": {
     "duration": 0.03342,
     "end_time": "2024-02-19T21:16:00.584353",
     "exception": false,
     "start_time": "2024-02-19T21:16:00.550933",
     "status": "completed"
    },
    "tags": []
   },
   "outputs": [
    {
     "data": {
      "text/plain": [
       "0.6915938864628821"
      ]
     },
     "execution_count": 43,
     "metadata": {},
     "output_type": "execute_result"
    }
   ],
   "source": [
    "#accuracy score in Testing data\n",
    "y_pred = model.predict(X_test)\n",
    "accuracy = accuracy_score(y_pred,y_test)\n",
    "accuracy"
   ]
  },
  {
   "cell_type": "markdown",
   "id": "2cdc3823",
   "metadata": {
    "papermill": {
     "duration": 0.022265,
     "end_time": "2024-02-19T21:16:00.628574",
     "exception": false,
     "start_time": "2024-02-19T21:16:00.606309",
     "status": "completed"
    },
    "tags": []
   },
   "source": [
    "**Saving the trained Model**"
   ]
  },
  {
   "cell_type": "code",
   "execution_count": 44,
   "id": "0f8ae578",
   "metadata": {
    "execution": {
     "iopub.execute_input": "2024-02-19T21:16:00.674782Z",
     "iopub.status.busy": "2024-02-19T21:16:00.674089Z",
     "iopub.status.idle": "2024-02-19T21:16:00.678963Z",
     "shell.execute_reply": "2024-02-19T21:16:00.678207Z"
    },
    "papermill": {
     "duration": 0.030492,
     "end_time": "2024-02-19T21:16:00.681026",
     "exception": false,
     "start_time": "2024-02-19T21:16:00.650534",
     "status": "completed"
    },
    "tags": []
   },
   "outputs": [],
   "source": [
    "import pickle\n",
    "\n",
    "filename = 'trained_model.sav'\n",
    "pickle.dump(model,open(filename,'wb'))"
   ]
  },
  {
   "cell_type": "markdown",
   "id": "4f0f9586",
   "metadata": {
    "papermill": {
     "duration": 0.02189,
     "end_time": "2024-02-19T21:16:00.724884",
     "exception": false,
     "start_time": "2024-02-19T21:16:00.702994",
     "status": "completed"
    },
    "tags": []
   },
   "source": [
    "**Using the saved model for future predictions**"
   ]
  },
  {
   "cell_type": "code",
   "execution_count": 45,
   "id": "abd20449",
   "metadata": {
    "execution": {
     "iopub.execute_input": "2024-02-19T21:16:00.770563Z",
     "iopub.status.busy": "2024-02-19T21:16:00.770154Z",
     "iopub.status.idle": "2024-02-19T21:16:00.775120Z",
     "shell.execute_reply": "2024-02-19T21:16:00.774237Z"
    },
    "papermill": {
     "duration": 0.030518,
     "end_time": "2024-02-19T21:16:00.777335",
     "exception": false,
     "start_time": "2024-02-19T21:16:00.746817",
     "status": "completed"
    },
    "tags": []
   },
   "outputs": [],
   "source": [
    "loaded_model = pickle.load(open('/kaggle/working/trained_model.sav','rb'))"
   ]
  },
  {
   "cell_type": "code",
   "execution_count": 46,
   "id": "69108b19",
   "metadata": {
    "execution": {
     "iopub.execute_input": "2024-02-19T21:16:00.822738Z",
     "iopub.status.busy": "2024-02-19T21:16:00.822033Z",
     "iopub.status.idle": "2024-02-19T21:16:00.831365Z",
     "shell.execute_reply": "2024-02-19T21:16:00.830239Z"
    },
    "papermill": {
     "duration": 0.034877,
     "end_time": "2024-02-19T21:16:00.833707",
     "exception": false,
     "start_time": "2024-02-19T21:16:00.798830",
     "status": "completed"
    },
    "tags": []
   },
   "outputs": [
    {
     "name": "stdout",
     "output_type": "stream",
     "text": [
      "1\n",
      "[1]\n",
      "Neutral\n"
     ]
    }
   ],
   "source": [
    "X_new = X_test[205]\n",
    "print(y_test[205])\n",
    "prediction = model.predict(X_new)\n",
    "print(prediction)\n",
    "\n",
    "if (prediction[0] == 0):\n",
    "    print('Negative')\n",
    "elif (prediction[0] == 1):\n",
    "    print('Neutral')\n",
    "else:\n",
    "    print('Positive')"
   ]
  },
  {
   "cell_type": "code",
   "execution_count": null,
   "id": "b7430a22",
   "metadata": {
    "papermill": {
     "duration": 0.021857,
     "end_time": "2024-02-19T21:16:00.877382",
     "exception": false,
     "start_time": "2024-02-19T21:16:00.855525",
     "status": "completed"
    },
    "tags": []
   },
   "outputs": [],
   "source": []
  }
 ],
 "metadata": {
  "kaggle": {
   "accelerator": "none",
   "dataSources": [
    {
     "databundleVersionId": 1099992,
     "sourceId": 16295,
     "sourceType": "competition"
    },
    {
     "datasetId": 570053,
     "sourceId": 1046215,
     "sourceType": "datasetVersion"
    }
   ],
   "dockerImageVersionId": 30646,
   "isGpuEnabled": false,
   "isInternetEnabled": true,
   "language": "python",
   "sourceType": "notebook"
  },
  "kernelspec": {
   "display_name": "Python 3",
   "language": "python",
   "name": "python3"
  },
  "language_info": {
   "codemirror_mode": {
    "name": "ipython",
    "version": 3
   },
   "file_extension": ".py",
   "mimetype": "text/x-python",
   "name": "python",
   "nbconvert_exporter": "python",
   "pygments_lexer": "ipython3",
   "version": "3.10.13"
  },
  "papermill": {
   "default_parameters": {},
   "duration": 73.340014,
   "end_time": "2024-02-19T21:16:01.721711",
   "environment_variables": {},
   "exception": null,
   "input_path": "__notebook__.ipynb",
   "output_path": "__notebook__.ipynb",
   "parameters": {},
   "start_time": "2024-02-19T21:14:48.381697",
   "version": "2.5.0"
  }
 },
 "nbformat": 4,
 "nbformat_minor": 5
}
